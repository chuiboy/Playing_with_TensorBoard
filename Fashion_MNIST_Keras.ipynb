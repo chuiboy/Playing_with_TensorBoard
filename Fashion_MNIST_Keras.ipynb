{
 "cells": [
  {
   "cell_type": "markdown",
   "metadata": {},
   "source": [
    "## Fashion MNIST  with Keras & TensorBoard\n",
    "___\n",
    "In this notebook I try to get TensorBoard working on a model created using Keras. TensorBoard comes with TensorFlow and allows for easy visualization of different model architectures and their performances. The dataset used is \"Fashion MNIST\" and was obtained from Kaggle: https://www.kaggle.com/zalando-research/fashionmnist\n",
    "___\n",
    "Reference:\n",
    "\n",
    "Most of what is in this notebook was learned from https://www.pinchofintelligence.com/simple-introduction-to-tensorboard-embedding-visualisation/ and the MarkJay Youtube channel https://www.youtube.com/channel/UC2W0aQEPNpU6XrkFCYifRFQ/ series on \"FashionMNIST Keras + TensorFlow\".\n",
    "___\n"
   ]
  },
  {
   "cell_type": "code",
   "execution_count": 1,
   "metadata": {},
   "outputs": [
    {
     "name": "stderr",
     "output_type": "stream",
     "text": [
      "C:\\Users\\Marvin\\Anaconda3\\lib\\site-packages\\h5py\\__init__.py:36: FutureWarning: Conversion of the second argument of issubdtype from `float` to `np.floating` is deprecated. In future, it will be treated as `np.float64 == np.dtype(float).type`.\n",
      "  from ._conv import register_converters as _register_converters\n",
      "Using TensorFlow backend.\n"
     ]
    }
   ],
   "source": [
    "# Import libraries\n",
    "import os\n",
    "import numpy as np\n",
    "import pandas as pd\n",
    "import matplotlib.pyplot as plt\n",
    "import tensorflow as tf\n",
    "import keras\n",
    "from keras.models import Sequential\n",
    "from keras.layers import Conv2D, MaxPooling2D, Dense, Flatten, Dropout\n",
    "from keras.callbacks import TensorBoard\n",
    "\n",
    "%matplotlib inline"
   ]
  },
  {
   "cell_type": "code",
   "execution_count": 2,
   "metadata": {},
   "outputs": [],
   "source": [
    "# Retrieve the dataset\n",
    "train = pd.read_csv(r'Datasets\\fashionmnist\\fashion-mnist_train.csv')\n",
    "test = pd.read_csv(r'Datasets\\fashionmnist\\fashion-mnist_test.csv')"
   ]
  },
  {
   "cell_type": "code",
   "execution_count": 3,
   "metadata": {},
   "outputs": [
    {
     "data": {
      "text/html": [
       "<div>\n",
       "<style scoped>\n",
       "    .dataframe tbody tr th:only-of-type {\n",
       "        vertical-align: middle;\n",
       "    }\n",
       "\n",
       "    .dataframe tbody tr th {\n",
       "        vertical-align: top;\n",
       "    }\n",
       "\n",
       "    .dataframe thead th {\n",
       "        text-align: right;\n",
       "    }\n",
       "</style>\n",
       "<table border=\"1\" class=\"dataframe\">\n",
       "  <thead>\n",
       "    <tr style=\"text-align: right;\">\n",
       "      <th></th>\n",
       "      <th>label</th>\n",
       "      <th>pixel1</th>\n",
       "      <th>pixel2</th>\n",
       "      <th>pixel3</th>\n",
       "      <th>pixel4</th>\n",
       "      <th>pixel5</th>\n",
       "      <th>pixel6</th>\n",
       "      <th>pixel7</th>\n",
       "      <th>pixel8</th>\n",
       "      <th>pixel9</th>\n",
       "      <th>...</th>\n",
       "      <th>pixel775</th>\n",
       "      <th>pixel776</th>\n",
       "      <th>pixel777</th>\n",
       "      <th>pixel778</th>\n",
       "      <th>pixel779</th>\n",
       "      <th>pixel780</th>\n",
       "      <th>pixel781</th>\n",
       "      <th>pixel782</th>\n",
       "      <th>pixel783</th>\n",
       "      <th>pixel784</th>\n",
       "    </tr>\n",
       "  </thead>\n",
       "  <tbody>\n",
       "    <tr>\n",
       "      <th>0</th>\n",
       "      <td>2</td>\n",
       "      <td>0</td>\n",
       "      <td>0</td>\n",
       "      <td>0</td>\n",
       "      <td>0</td>\n",
       "      <td>0</td>\n",
       "      <td>0</td>\n",
       "      <td>0</td>\n",
       "      <td>0</td>\n",
       "      <td>0</td>\n",
       "      <td>...</td>\n",
       "      <td>0</td>\n",
       "      <td>0</td>\n",
       "      <td>0</td>\n",
       "      <td>0</td>\n",
       "      <td>0</td>\n",
       "      <td>0</td>\n",
       "      <td>0</td>\n",
       "      <td>0</td>\n",
       "      <td>0</td>\n",
       "      <td>0</td>\n",
       "    </tr>\n",
       "    <tr>\n",
       "      <th>1</th>\n",
       "      <td>9</td>\n",
       "      <td>0</td>\n",
       "      <td>0</td>\n",
       "      <td>0</td>\n",
       "      <td>0</td>\n",
       "      <td>0</td>\n",
       "      <td>0</td>\n",
       "      <td>0</td>\n",
       "      <td>0</td>\n",
       "      <td>0</td>\n",
       "      <td>...</td>\n",
       "      <td>0</td>\n",
       "      <td>0</td>\n",
       "      <td>0</td>\n",
       "      <td>0</td>\n",
       "      <td>0</td>\n",
       "      <td>0</td>\n",
       "      <td>0</td>\n",
       "      <td>0</td>\n",
       "      <td>0</td>\n",
       "      <td>0</td>\n",
       "    </tr>\n",
       "    <tr>\n",
       "      <th>2</th>\n",
       "      <td>6</td>\n",
       "      <td>0</td>\n",
       "      <td>0</td>\n",
       "      <td>0</td>\n",
       "      <td>0</td>\n",
       "      <td>0</td>\n",
       "      <td>0</td>\n",
       "      <td>0</td>\n",
       "      <td>5</td>\n",
       "      <td>0</td>\n",
       "      <td>...</td>\n",
       "      <td>0</td>\n",
       "      <td>0</td>\n",
       "      <td>0</td>\n",
       "      <td>30</td>\n",
       "      <td>43</td>\n",
       "      <td>0</td>\n",
       "      <td>0</td>\n",
       "      <td>0</td>\n",
       "      <td>0</td>\n",
       "      <td>0</td>\n",
       "    </tr>\n",
       "  </tbody>\n",
       "</table>\n",
       "<p>3 rows × 785 columns</p>\n",
       "</div>"
      ],
      "text/plain": [
       "   label  pixel1  pixel2  pixel3  pixel4  pixel5  pixel6  pixel7  pixel8  \\\n",
       "0      2       0       0       0       0       0       0       0       0   \n",
       "1      9       0       0       0       0       0       0       0       0   \n",
       "2      6       0       0       0       0       0       0       0       5   \n",
       "\n",
       "   pixel9    ...     pixel775  pixel776  pixel777  pixel778  pixel779  \\\n",
       "0       0    ...            0         0         0         0         0   \n",
       "1       0    ...            0         0         0         0         0   \n",
       "2       0    ...            0         0         0        30        43   \n",
       "\n",
       "   pixel780  pixel781  pixel782  pixel783  pixel784  \n",
       "0         0         0         0         0         0  \n",
       "1         0         0         0         0         0  \n",
       "2         0         0         0         0         0  \n",
       "\n",
       "[3 rows x 785 columns]"
      ]
     },
     "execution_count": 3,
     "metadata": {},
     "output_type": "execute_result"
    }
   ],
   "source": [
    "# Take a look at what the dataset looks like\n",
    "train.head(3)"
   ]
  },
  {
   "cell_type": "code",
   "execution_count": 4,
   "metadata": {},
   "outputs": [
    {
     "data": {
      "text/html": [
       "<div>\n",
       "<style scoped>\n",
       "    .dataframe tbody tr th:only-of-type {\n",
       "        vertical-align: middle;\n",
       "    }\n",
       "\n",
       "    .dataframe tbody tr th {\n",
       "        vertical-align: top;\n",
       "    }\n",
       "\n",
       "    .dataframe thead th {\n",
       "        text-align: right;\n",
       "    }\n",
       "</style>\n",
       "<table border=\"1\" class=\"dataframe\">\n",
       "  <thead>\n",
       "    <tr style=\"text-align: right;\">\n",
       "      <th></th>\n",
       "      <th>label</th>\n",
       "      <th>pixel1</th>\n",
       "      <th>pixel2</th>\n",
       "      <th>pixel3</th>\n",
       "      <th>pixel4</th>\n",
       "      <th>pixel5</th>\n",
       "      <th>pixel6</th>\n",
       "      <th>pixel7</th>\n",
       "      <th>pixel8</th>\n",
       "      <th>pixel9</th>\n",
       "      <th>...</th>\n",
       "      <th>pixel775</th>\n",
       "      <th>pixel776</th>\n",
       "      <th>pixel777</th>\n",
       "      <th>pixel778</th>\n",
       "      <th>pixel779</th>\n",
       "      <th>pixel780</th>\n",
       "      <th>pixel781</th>\n",
       "      <th>pixel782</th>\n",
       "      <th>pixel783</th>\n",
       "      <th>pixel784</th>\n",
       "    </tr>\n",
       "  </thead>\n",
       "  <tbody>\n",
       "    <tr>\n",
       "      <th>0</th>\n",
       "      <td>0</td>\n",
       "      <td>0</td>\n",
       "      <td>0</td>\n",
       "      <td>0</td>\n",
       "      <td>0</td>\n",
       "      <td>0</td>\n",
       "      <td>0</td>\n",
       "      <td>0</td>\n",
       "      <td>9</td>\n",
       "      <td>8</td>\n",
       "      <td>...</td>\n",
       "      <td>103</td>\n",
       "      <td>87</td>\n",
       "      <td>56</td>\n",
       "      <td>0</td>\n",
       "      <td>0</td>\n",
       "      <td>0</td>\n",
       "      <td>0</td>\n",
       "      <td>0</td>\n",
       "      <td>0</td>\n",
       "      <td>0</td>\n",
       "    </tr>\n",
       "    <tr>\n",
       "      <th>1</th>\n",
       "      <td>1</td>\n",
       "      <td>0</td>\n",
       "      <td>0</td>\n",
       "      <td>0</td>\n",
       "      <td>0</td>\n",
       "      <td>0</td>\n",
       "      <td>0</td>\n",
       "      <td>0</td>\n",
       "      <td>0</td>\n",
       "      <td>0</td>\n",
       "      <td>...</td>\n",
       "      <td>34</td>\n",
       "      <td>0</td>\n",
       "      <td>0</td>\n",
       "      <td>0</td>\n",
       "      <td>0</td>\n",
       "      <td>0</td>\n",
       "      <td>0</td>\n",
       "      <td>0</td>\n",
       "      <td>0</td>\n",
       "      <td>0</td>\n",
       "    </tr>\n",
       "    <tr>\n",
       "      <th>2</th>\n",
       "      <td>2</td>\n",
       "      <td>0</td>\n",
       "      <td>0</td>\n",
       "      <td>0</td>\n",
       "      <td>0</td>\n",
       "      <td>0</td>\n",
       "      <td>0</td>\n",
       "      <td>14</td>\n",
       "      <td>53</td>\n",
       "      <td>99</td>\n",
       "      <td>...</td>\n",
       "      <td>0</td>\n",
       "      <td>0</td>\n",
       "      <td>0</td>\n",
       "      <td>0</td>\n",
       "      <td>63</td>\n",
       "      <td>53</td>\n",
       "      <td>31</td>\n",
       "      <td>0</td>\n",
       "      <td>0</td>\n",
       "      <td>0</td>\n",
       "    </tr>\n",
       "  </tbody>\n",
       "</table>\n",
       "<p>3 rows × 785 columns</p>\n",
       "</div>"
      ],
      "text/plain": [
       "   label  pixel1  pixel2  pixel3  pixel4  pixel5  pixel6  pixel7  pixel8  \\\n",
       "0      0       0       0       0       0       0       0       0       9   \n",
       "1      1       0       0       0       0       0       0       0       0   \n",
       "2      2       0       0       0       0       0       0      14      53   \n",
       "\n",
       "   pixel9    ...     pixel775  pixel776  pixel777  pixel778  pixel779  \\\n",
       "0       8    ...          103        87        56         0         0   \n",
       "1       0    ...           34         0         0         0         0   \n",
       "2      99    ...            0         0         0         0        63   \n",
       "\n",
       "   pixel780  pixel781  pixel782  pixel783  pixel784  \n",
       "0         0         0         0         0         0  \n",
       "1         0         0         0         0         0  \n",
       "2        53        31         0         0         0  \n",
       "\n",
       "[3 rows x 785 columns]"
      ]
     },
     "execution_count": 4,
     "metadata": {},
     "output_type": "execute_result"
    }
   ],
   "source": [
    "test.head(3)"
   ]
  },
  {
   "cell_type": "code",
   "execution_count": 5,
   "metadata": {},
   "outputs": [],
   "source": [
    "# Separate our features from labels\n",
    "X_train = train.drop('label', axis=1)\n",
    "X_test = test.drop('label', axis=1)\n",
    "y_train = train['label']\n",
    "y_test = test['label']"
   ]
  },
  {
   "cell_type": "code",
   "execution_count": 6,
   "metadata": {},
   "outputs": [
    {
     "data": {
      "text/html": [
       "<div>\n",
       "<style scoped>\n",
       "    .dataframe tbody tr th:only-of-type {\n",
       "        vertical-align: middle;\n",
       "    }\n",
       "\n",
       "    .dataframe tbody tr th {\n",
       "        vertical-align: top;\n",
       "    }\n",
       "\n",
       "    .dataframe thead th {\n",
       "        text-align: right;\n",
       "    }\n",
       "</style>\n",
       "<table border=\"1\" class=\"dataframe\">\n",
       "  <thead>\n",
       "    <tr style=\"text-align: right;\">\n",
       "      <th></th>\n",
       "      <th>pixel1</th>\n",
       "      <th>pixel2</th>\n",
       "      <th>pixel3</th>\n",
       "      <th>pixel4</th>\n",
       "      <th>pixel5</th>\n",
       "      <th>pixel6</th>\n",
       "      <th>pixel7</th>\n",
       "      <th>pixel8</th>\n",
       "      <th>pixel9</th>\n",
       "      <th>pixel10</th>\n",
       "      <th>...</th>\n",
       "      <th>pixel775</th>\n",
       "      <th>pixel776</th>\n",
       "      <th>pixel777</th>\n",
       "      <th>pixel778</th>\n",
       "      <th>pixel779</th>\n",
       "      <th>pixel780</th>\n",
       "      <th>pixel781</th>\n",
       "      <th>pixel782</th>\n",
       "      <th>pixel783</th>\n",
       "      <th>pixel784</th>\n",
       "    </tr>\n",
       "  </thead>\n",
       "  <tbody>\n",
       "    <tr>\n",
       "      <th>0</th>\n",
       "      <td>0</td>\n",
       "      <td>0</td>\n",
       "      <td>0</td>\n",
       "      <td>0</td>\n",
       "      <td>0</td>\n",
       "      <td>0</td>\n",
       "      <td>0</td>\n",
       "      <td>0</td>\n",
       "      <td>0</td>\n",
       "      <td>0</td>\n",
       "      <td>...</td>\n",
       "      <td>0</td>\n",
       "      <td>0</td>\n",
       "      <td>0</td>\n",
       "      <td>0</td>\n",
       "      <td>0</td>\n",
       "      <td>0</td>\n",
       "      <td>0</td>\n",
       "      <td>0</td>\n",
       "      <td>0</td>\n",
       "      <td>0</td>\n",
       "    </tr>\n",
       "    <tr>\n",
       "      <th>1</th>\n",
       "      <td>0</td>\n",
       "      <td>0</td>\n",
       "      <td>0</td>\n",
       "      <td>0</td>\n",
       "      <td>0</td>\n",
       "      <td>0</td>\n",
       "      <td>0</td>\n",
       "      <td>0</td>\n",
       "      <td>0</td>\n",
       "      <td>0</td>\n",
       "      <td>...</td>\n",
       "      <td>0</td>\n",
       "      <td>0</td>\n",
       "      <td>0</td>\n",
       "      <td>0</td>\n",
       "      <td>0</td>\n",
       "      <td>0</td>\n",
       "      <td>0</td>\n",
       "      <td>0</td>\n",
       "      <td>0</td>\n",
       "      <td>0</td>\n",
       "    </tr>\n",
       "    <tr>\n",
       "      <th>2</th>\n",
       "      <td>0</td>\n",
       "      <td>0</td>\n",
       "      <td>0</td>\n",
       "      <td>0</td>\n",
       "      <td>0</td>\n",
       "      <td>0</td>\n",
       "      <td>0</td>\n",
       "      <td>5</td>\n",
       "      <td>0</td>\n",
       "      <td>0</td>\n",
       "      <td>...</td>\n",
       "      <td>0</td>\n",
       "      <td>0</td>\n",
       "      <td>0</td>\n",
       "      <td>30</td>\n",
       "      <td>43</td>\n",
       "      <td>0</td>\n",
       "      <td>0</td>\n",
       "      <td>0</td>\n",
       "      <td>0</td>\n",
       "      <td>0</td>\n",
       "    </tr>\n",
       "  </tbody>\n",
       "</table>\n",
       "<p>3 rows × 784 columns</p>\n",
       "</div>"
      ],
      "text/plain": [
       "   pixel1  pixel2  pixel3  pixel4  pixel5  pixel6  pixel7  pixel8  pixel9  \\\n",
       "0       0       0       0       0       0       0       0       0       0   \n",
       "1       0       0       0       0       0       0       0       0       0   \n",
       "2       0       0       0       0       0       0       0       5       0   \n",
       "\n",
       "   pixel10    ...     pixel775  pixel776  pixel777  pixel778  pixel779  \\\n",
       "0        0    ...            0         0         0         0         0   \n",
       "1        0    ...            0         0         0         0         0   \n",
       "2        0    ...            0         0         0        30        43   \n",
       "\n",
       "   pixel780  pixel781  pixel782  pixel783  pixel784  \n",
       "0         0         0         0         0         0  \n",
       "1         0         0         0         0         0  \n",
       "2         0         0         0         0         0  \n",
       "\n",
       "[3 rows x 784 columns]"
      ]
     },
     "execution_count": 6,
     "metadata": {},
     "output_type": "execute_result"
    }
   ],
   "source": [
    "# Check to see if it worked\n",
    "X_train.head(3)"
   ]
  },
  {
   "cell_type": "code",
   "execution_count": 7,
   "metadata": {},
   "outputs": [
    {
     "data": {
      "text/plain": [
       "0    2\n",
       "1    9\n",
       "2    6\n",
       "Name: label, dtype: int64"
      ]
     },
     "execution_count": 7,
     "metadata": {},
     "output_type": "execute_result"
    }
   ],
   "source": [
    "y_train.head(3)"
   ]
  },
  {
   "cell_type": "code",
   "execution_count": 8,
   "metadata": {},
   "outputs": [
    {
     "data": {
      "text/plain": [
       "<matplotlib.image.AxesImage at 0x18895b38>"
      ]
     },
     "execution_count": 8,
     "metadata": {},
     "output_type": "execute_result"
    },
    {
     "data": {
      "image/png": "[encoded data removed]",
      "text/plain": [
       "<matplotlib.figure.Figure at 0x186c6cc0>"
      ]
     },
     "metadata": {},
     "output_type": "display_data"
    }
   ],
   "source": [
    "# An example from the dataset\n",
    "image = X_train.iloc[np.random.randint(len(X_train))].values.reshape(28,28)\n",
    "plt.imshow(image, cmap = 'binary')"
   ]
  },
  {
   "cell_type": "markdown",
   "metadata": {},
   "source": [
    "## Creating our Model\n",
    "___\n",
    "Now that we have seen what our data looks like it is time to preprocess it and create a model. To preprocess the data we will simply divide each value in X_train and X_test by 255 so that they take on a value between 0 and 1, and reshape them to be of shape (28, 28, 1). We then create a convolutional neural network and fit it to the training set."
   ]
  },
  {
   "cell_type": "code",
   "execution_count": 9,
   "metadata": {},
   "outputs": [],
   "source": [
    "# Normalize the data and let's use numpy arrays instead of dataframes\n",
    "X_train = X_train.values / 255\n",
    "X_test = X_test.values / 255"
   ]
  },
  {
   "cell_type": "code",
   "execution_count": 10,
   "metadata": {},
   "outputs": [],
   "source": [
    "# Reshape X_train and X_test to have the shape of the image\n",
    "X_train_image = X_train.reshape(-1, 28, 28, 1)\n",
    "X_test_image = X_test.reshape(-1, 28, 28, 1)"
   ]
  },
  {
   "cell_type": "code",
   "execution_count": 11,
   "metadata": {},
   "outputs": [],
   "source": [
    "# Create a ConvNet\n",
    "model = Sequential([\n",
    "    Conv2D(filters=32, kernel_size=3, activation='relu', input_shape=(28,28,1), name='conv2d_1'),\n",
    "    Dropout(rate=0.2, name='dropout_1'),\n",
    "    Conv2D(filters=64, kernel_size=3, activation='relu', name='conv2d_2'),\n",
    "    MaxPooling2D(pool_size=(2, 2), name='maxpool_2'),\n",
    "    Dropout(rate=0.2, name='dropout_2'),\n",
    "    Conv2D(filters=128, kernel_size=3, activation='relu', name='conv2d_3'),\n",
    "    Dropout(rate=0.2, name='dropout_3'),\n",
    "    Conv2D(filters=128, kernel_size=3, activation='relu', name='conv2d_4'),\n",
    "    MaxPooling2D(pool_size=(2, 2), name='maxpool_4'),\n",
    "    Dropout(rate=0.2, name='dropout_4'),\n",
    "    Flatten(name='flatten'),\n",
    "    Dense(units=128, activation='relu', name='dense'),\n",
    "    Dense(units=10, activation='softmax', name='output')], \n",
    "    name='6-layer_ConvNet'\n",
    ")"
   ]
  },
  {
   "cell_type": "code",
   "execution_count": 12,
   "metadata": {},
   "outputs": [
    {
     "name": "stdout",
     "output_type": "stream",
     "text": [
      "_________________________________________________________________\n",
      "Layer (type)                 Output Shape              Param #   \n",
      "=================================================================\n",
      "conv2d_1 (Conv2D)            (None, 26, 26, 32)        320       \n",
      "_________________________________________________________________\n",
      "dropout_1 (Dropout)          (None, 26, 26, 32)        0         \n",
      "_________________________________________________________________\n",
      "conv2d_2 (Conv2D)            (None, 24, 24, 64)        18496     \n",
      "_________________________________________________________________\n",
      "maxpool_2 (MaxPooling2D)     (None, 12, 12, 64)        0         \n",
      "_________________________________________________________________\n",
      "dropout_2 (Dropout)          (None, 12, 12, 64)        0         \n",
      "_________________________________________________________________\n",
      "conv2d_3 (Conv2D)            (None, 10, 10, 128)       73856     \n",
      "_________________________________________________________________\n",
      "dropout_3 (Dropout)          (None, 10, 10, 128)       0         \n",
      "_________________________________________________________________\n",
      "conv2d_4 (Conv2D)            (None, 8, 8, 128)         147584    \n",
      "_________________________________________________________________\n",
      "maxpool_4 (MaxPooling2D)     (None, 4, 4, 128)         0         \n",
      "_________________________________________________________________\n",
      "dropout_4 (Dropout)          (None, 4, 4, 128)         0         \n",
      "_________________________________________________________________\n",
      "flatten (Flatten)            (None, 2048)              0         \n",
      "_________________________________________________________________\n",
      "dense (Dense)                (None, 128)               262272    \n",
      "_________________________________________________________________\n",
      "output (Dense)               (None, 10)                1290      \n",
      "=================================================================\n",
      "Total params: 503,818\n",
      "Trainable params: 503,818\n",
      "Non-trainable params: 0\n",
      "_________________________________________________________________\n"
     ]
    }
   ],
   "source": [
    "# Check out the details of our ConvNet\n",
    "model.summary()"
   ]
  },
  {
   "cell_type": "code",
   "execution_count": 13,
   "metadata": {},
   "outputs": [],
   "source": [
    "# To see the model on TensorBoard we create a TensorBoard callback that writes a log for TensorBoard\n",
    "tensorboard = TensorBoard(\n",
    "    log_dir=r'logs\\FashionMNIST_Keras_TensorBoard\\{}'.format(model.name), # choose your own logging directory\n",
    "    histogram_freq=1,\n",
    "    write_graph=True,\n",
    "    write_grads=True,\n",
    "    write_images=True\n",
    ")"
   ]
  },
  {
   "cell_type": "code",
   "execution_count": 14,
   "metadata": {},
   "outputs": [],
   "source": [
    "# Compile our model\n",
    "model.compile(\n",
    "    optimizer='adam',\n",
    "    loss = 'sparse_categorical_crossentropy', # since labels are not one-hot encoded\n",
    "    metrics = ['accuracy']\n",
    ")"
   ]
  },
  {
   "cell_type": "code",
   "execution_count": 15,
   "metadata": {
    "scrolled": true
   },
   "outputs": [
    {
     "name": "stdout",
     "output_type": "stream",
     "text": [
      "Train on 48000 samples, validate on 12000 samples\n",
      "Epoch 1/25\n",
      "48000/48000 [==============================] - 15s 312us/step - loss: 0.6200 - acc: 0.7701 - val_loss: 0.3930 - val_acc: 0.8588\n",
      "Epoch 2/25\n",
      "48000/48000 [==============================] - 13s 271us/step - loss: 0.3620 - acc: 0.8661 - val_loss: 0.3037 - val_acc: 0.8926\n",
      "Epoch 3/25\n",
      "48000/48000 [==============================] - 13s 269us/step - loss: 0.3064 - acc: 0.8885 - val_loss: 0.2942 - val_acc: 0.8924\n",
      "Epoch 4/25\n",
      "48000/48000 [==============================] - 13s 272us/step - loss: 0.2734 - acc: 0.8991 - val_loss: 0.2526 - val_acc: 0.9088\n",
      "Epoch 5/25\n",
      "48000/48000 [==============================] - 13s 266us/step - loss: 0.2527 - acc: 0.9068 - val_loss: 0.2445 - val_acc: 0.9107\n",
      "Epoch 6/25\n",
      "48000/48000 [==============================] - 13s 266us/step - loss: 0.2339 - acc: 0.9129 - val_loss: 0.2497 - val_acc: 0.9116\n",
      "Epoch 7/25\n",
      "48000/48000 [==============================] - 22s 455us/step - loss: 0.2189 - acc: 0.9188 - val_loss: 0.2312 - val_acc: 0.9152\n",
      "Epoch 8/25\n",
      "48000/48000 [==============================] - 23s 477us/step - loss: 0.2033 - acc: 0.9235 - val_loss: 0.2252 - val_acc: 0.9183\n",
      "Epoch 9/25\n",
      "48000/48000 [==============================] - 23s 477us/step - loss: 0.1943 - acc: 0.9269 - val_loss: 0.2278 - val_acc: 0.9205\n",
      "Epoch 10/25\n",
      "48000/48000 [==============================] - 23s 477us/step - loss: 0.1807 - acc: 0.9322 - val_loss: 0.2129 - val_acc: 0.9253\n",
      "Epoch 11/25\n",
      "48000/48000 [==============================] - 23s 476us/step - loss: 0.1694 - acc: 0.9366 - val_loss: 0.2130 - val_acc: 0.9246\n",
      "Epoch 12/25\n",
      "48000/48000 [==============================] - 23s 476us/step - loss: 0.1597 - acc: 0.9398 - val_loss: 0.2205 - val_acc: 0.9237\n",
      "Epoch 13/25\n",
      "48000/48000 [==============================] - 23s 477us/step - loss: 0.1542 - acc: 0.9419 - val_loss: 0.2057 - val_acc: 0.9278\n",
      "Epoch 14/25\n",
      "48000/48000 [==============================] - 23s 475us/step - loss: 0.1421 - acc: 0.9462 - val_loss: 0.2116 - val_acc: 0.9267\n",
      "Epoch 15/25\n",
      "48000/48000 [==============================] - 23s 477us/step - loss: 0.1374 - acc: 0.9462 - val_loss: 0.2174 - val_acc: 0.9268\n",
      "Epoch 16/25\n",
      "48000/48000 [==============================] - 23s 475us/step - loss: 0.1292 - acc: 0.9509 - val_loss: 0.2224 - val_acc: 0.9269\n",
      "Epoch 17/25\n",
      "48000/48000 [==============================] - 23s 475us/step - loss: 0.1203 - acc: 0.9541 - val_loss: 0.2461 - val_acc: 0.9192\n",
      "Epoch 18/25\n",
      "48000/48000 [==============================] - 23s 476us/step - loss: 0.1178 - acc: 0.9553 - val_loss: 0.2343 - val_acc: 0.9253\n",
      "Epoch 19/25\n",
      "48000/48000 [==============================] - 23s 476us/step - loss: 0.1088 - acc: 0.9583 - val_loss: 0.2306 - val_acc: 0.9273\n",
      "Epoch 20/25\n",
      "48000/48000 [==============================] - 23s 473us/step - loss: 0.1051 - acc: 0.9599 - val_loss: 0.2362 - val_acc: 0.9244\n",
      "Epoch 21/25\n",
      "48000/48000 [==============================] - 23s 473us/step - loss: 0.1035 - acc: 0.9613 - val_loss: 0.2261 - val_acc: 0.9268\n",
      "Epoch 22/25\n",
      "48000/48000 [==============================] - 23s 473us/step - loss: 0.0971 - acc: 0.9633 - val_loss: 0.2361 - val_acc: 0.9258\n",
      "Epoch 23/25\n",
      "48000/48000 [==============================] - 23s 472us/step - loss: 0.0956 - acc: 0.9640 - val_loss: 0.2502 - val_acc: 0.9241\n",
      "Epoch 24/25\n",
      "48000/48000 [==============================] - 23s 474us/step - loss: 0.0905 - acc: 0.9659 - val_loss: 0.2392 - val_acc: 0.9263\n",
      "Epoch 25/25\n",
      "48000/48000 [==============================] - 23s 472us/step - loss: 0.0885 - acc: 0.9663 - val_loss: 0.2442 - val_acc: 0.9236\n"
     ]
    },
    {
     "data": {
      "text/plain": [
       "<keras.callbacks.History at 0x1824df98>"
      ]
     },
     "execution_count": 15,
     "metadata": {},
     "output_type": "execute_result"
    }
   ],
   "source": [
    "# Fit our model to the training set\n",
    "model.fit(\n",
    "    x=X_train_image, \n",
    "    y=y_train, \n",
    "    batch_size=128, \n",
    "    epochs=25, \n",
    "    callbacks=[tensorboard], \n",
    "    validation_split=0.2 # validation set to measure performance during training\n",
    ")\n"
   ]
  },
  {
   "cell_type": "code",
   "execution_count": 16,
   "metadata": {},
   "outputs": [
    {
     "name": "stdout",
     "output_type": "stream",
     "text": [
      "10000/10000 [==============================] - 3s 346us/step\n",
      "test loss: 0.2232707907795906\n",
      "test acc: 0.9294\n"
     ]
    }
   ],
   "source": [
    "# Finally let's evaluate the model on the test set\n",
    "test_loss, test_acc = model.evaluate(x=X_test_image, y=y_test)\n",
    "print('test loss:', test_loss)\n",
    "print('test acc:', test_acc)"
   ]
  },
  {
   "cell_type": "markdown",
   "metadata": {},
   "source": [
    "## Opening model on TensorBoard\n",
    "___\n",
    "After training open up a new command/Anaconda prompt and type the following: \n",
    "\n",
    "tensorboard --logdir *\"path name\"*\n",
    "\n",
    "where the *\"path name\"* is where you saved the log. You should be returned a local address, for example, http://localhost:6006, which you can use to access TensorBoard."
   ]
  },
  {
   "cell_type": "markdown",
   "metadata": {},
   "source": [
    "## Visualizing our Dataset on TensorBoard\n",
    "___\n",
    "One neat feature of TensorBoard is the ability to visualize high dimensional data in 2D or 3D using Principal Component Analysis (PCA) and t-Distributed Stochastic Neighbor Embedding (t-SNE). In this example we project our input data into 3D space, however, it is more common to project an embedding/encoding, for example, the layer just before the output layer, into 3D space. Because we don't want to clutter the 3D projection, we will only use 1024 images."
   ]
  },
  {
   "cell_type": "code",
   "execution_count": 30,
   "metadata": {},
   "outputs": [],
   "source": [
    "# Select 1024 random images from the test set to be projected into the 3D space\n",
    "perm = np.random.permutation(len(X_test))\n",
    "X_test_shuffled = X_test[perm, :]\n",
    "y_test_shuffled = y_test[perm]\n",
    "X_test_emb = X_test_shuffled[:1024, :]\n",
    "y_test_emb = y_test_shuffled[:1024].values"
   ]
  },
  {
   "cell_type": "code",
   "execution_count": 31,
   "metadata": {},
   "outputs": [],
   "source": [
    "# Save the logging directory into a variable for easy access\n",
    "\n",
    "# The same logdir as the one used before. I suggest you use the entire address.\n",
    "LOGDIR = r'C:\\Users\\Marvin\\Desktop\\MachineLearning\\Code\\logs\\FashionMNIST_Keras_TensorBoard\\{}'.format(model.name)"
   ]
  },
  {
   "cell_type": "code",
   "execution_count": 32,
   "metadata": {},
   "outputs": [],
   "source": [
    "# Configure the Projector that will display the graphs in TensorBoard\n",
    "\n",
    "# Choose our embeddings we want to display\n",
    "embedding = tf.Variable(X_test_emb, name='test_embedding') \n",
    "\n",
    "# Create a FileWriter so that we can write our configurations in\n",
    "writer = tf.summary.FileWriter(LOGDIR)\n",
    "\n",
    "# Configure the Projector\n",
    "config = tf.contrib.tensorboard.plugins.projector.ProjectorConfig()\n",
    "embedding_config = config.embeddings.add()\n",
    "embedding_config.tensor_name = embedding.name\n",
    "embedding_config.sprite.image_path = os.path.join(LOGDIR, 'sprite_1024.png') # where to store spritesheet\n",
    "embedding_config.metadata_path = os.path.join(LOGDIR, 'labels_1024.tsv') # where to store metadata (labels)\n",
    "embedding_config.sprite.single_image_dim.extend([28, 28]) # specify the size of an image\n",
    "    \n",
    "# Write in the Projector configurations\n",
    "tf.contrib.tensorboard.plugins.projector.visualize_embeddings(writer, config)\n"
   ]
  },
  {
   "cell_type": "code",
   "execution_count": 33,
   "metadata": {},
   "outputs": [],
   "source": [
    "with tf.Session() as sess:\n",
    "    sess.run(tf.global_variables_initializer())\n",
    "    saver = tf.train.Saver()\n",
    "    saver.save(sess, os.path.join(LOGDIR, 'model.ckpt'))"
   ]
  },
  {
   "cell_type": "code",
   "execution_count": 34,
   "metadata": {},
   "outputs": [],
   "source": [
    "# Convert y_test_emb from digits to strings\n",
    "labels = pd.Series(y_test_emb)\n",
    "labels = labels.map({0: 't_shirt', \n",
    "                     1: 'trouser',\n",
    "                     2: 'pullover',\n",
    "                     3: 'dress',\n",
    "                     4: 'coat',\n",
    "                     5:'sandal', \n",
    "                     6: 'shirt', \n",
    "                     7:'sneaker', \n",
    "                     8:'bag', \n",
    "                     9:'ankle_boot'}\n",
    "                   )"
   ]
  },
  {
   "cell_type": "code",
   "execution_count": 35,
   "metadata": {},
   "outputs": [
    {
     "data": {
      "text/plain": [
       "<matplotlib.image.AxesImage at 0xb31e5b00>"
      ]
     },
     "execution_count": 35,
     "metadata": {},
     "output_type": "execute_result"
    },
    {
     "data": {
      "image/png": "[encoded data removed]",
      "text/plain": [
       "<matplotlib.figure.Figure at 0x6e340400>"
      ]
     },
     "metadata": {},
     "output_type": "display_data"
    }
   ],
   "source": [
    "# Create a sprite containing all images used for visualization\n",
    "img_h = 28\n",
    "img_w = 28\n",
    "sprite_dim = int(np.ceil(np.sqrt(len(X_test_emb))))\n",
    "\n",
    "sprite_img = np.zeros((img_h * sprite_dim, img_w * sprite_dim))\n",
    "\n",
    "index = 0\n",
    "for i in range(sprite_dim):\n",
    "    for j in range(sprite_dim):\n",
    "        sprite_img[i * img_h: (i + 1) * img_h, j * img_w: (j + 1) * img_w] \\\n",
    "            = X_test_emb[index].reshape(28, 28)\n",
    "        \n",
    "        index += 1\n",
    "\n",
    "# Write in the metadata\n",
    "with open(embedding_config.metadata_path, 'w') as meta:\n",
    "    meta.write('Index\\tLabel\\n')\n",
    "    for index, label in enumerate(labels):\n",
    "        meta.write('{}\\t{}\\n'.format(index, label))\n",
    "\n",
    "# Save the sprite\n",
    "plt.imsave(embedding_config.sprite.image_path, sprite_img, cmap='binary')\n",
    "plt.imshow(sprite_img, cmap='binary')"
   ]
  },
  {
   "cell_type": "markdown",
   "metadata": {},
   "source": [
    "And finally to view the visualization open TensorBoard and check the Projector tab."
   ]
  },
  {
   "cell_type": "code",
   "execution_count": null,
   "metadata": {},
   "outputs": [],
   "source": []
  }
 ],
 "metadata": {
  "kernelspec": {
   "display_name": "Python 3",
   "language": "python",
   "name": "python3"
  },
  "language_info": {
   "codemirror_mode": {
    "name": "ipython",
    "version": 3
   },
   "file_extension": ".py",
   "mimetype": "text/x-python",
   "name": "python",
   "nbconvert_exporter": "python",
   "pygments_lexer": "ipython3",
   "version": "3.6.1"
  }
 },
 "nbformat": 4,
 "nbformat_minor": 2
}
